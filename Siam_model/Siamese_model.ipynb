{
 "cells": [
  {
   "cell_type": "code",
   "execution_count": 266,
   "metadata": {},
   "outputs": [],
   "source": [
    "import torch \n",
    "import torch.nn as nn\n",
    "import pytorch_lightning as pl\n",
    "from torchsummary import summary\n",
    "from torch.utils.data import DataLoader, Dataset, random_split\n"
   ]
  },
  {
   "cell_type": "code",
   "execution_count": 2,
   "metadata": {},
   "outputs": [],
   "source": [
    "\n",
    "# Embedding vector --> From LLM Encoder & Graph encoder || MHC & peptide \n",
    "# Siam model ( MHC, Peptide)-> 1 if binds else 0 \n",
    "# input_dim = 1280"
   ]
  },
  {
   "cell_type": "code",
   "execution_count": null,
   "metadata": {},
   "outputs": [],
   "source": []
  },
  {
   "cell_type": "code",
   "execution_count": null,
   "metadata": {},
   "outputs": [],
   "source": [
    "class EmbeddingDataset(Dataset):\n",
    "    \n",
    "    def __init__(self, hla_embedding, peptide_embedding) -> None:\n",
    "        super(EmbeddingDataset).__init__()\n",
    "\n",
    "        self.hla_embedding = hla_embedding\n",
    "        self.peptide_embedding = peptide_embedding\n",
    "\n",
    "    def __len__(self):\n",
    "        assert len(self.hla_embedding) == len(self.peptide_embedding)\n",
    "        return len(self.hla_embedding)\n",
    "    \n",
    "    def __getitem__(self, idx):        \n",
    "        return self.hla_embedding[idx], self.peptide_embedding[idx]\n",
    "\n",
    "\n",
    "\n",
    "class EmbeddingDataModule(pl.LightningDataModule):\n",
    "\n",
    "    def __init__(self, hla, peptide ,batch_size):\n",
    "        super(EmbeddingDataModule).__init__()\n",
    "        self.hla = hla     \n",
    "        self.peptide = peptide \n",
    "        self.batch_size = batch_size\n",
    "\n",
    "    def setup(self, stage=None):\n",
    "        full_dataset = EmbeddingDataset(self.hla,self.peptide)\n",
    "        # datasplit = random_split(full_dataset, [int(len(full_dataset) * 0.8), len(full_dataset) - int(len(full_dataset) * 0.8)])\n",
    "        # self.train_ids,self.val_ids = datasplit[0].dataset.identifiers,datasplit[1].dataset.identifiers\n",
    "        self.train, self.val = random_split(full_dataset, [int(len(full_dataset) * 0.8), len(full_dataset) - int(len(full_dataset) * 0.8)])\n",
    "        # self.train, self.val = datasplit[0].dataset.data,datasplit[1].dataset.data\n",
    "\n",
    "    def train_dataloader(self):\n",
    "        return DataLoader(self.train, batch_size=self.batch_size, num_workers=4)\n",
    "\n",
    "    def val_dataloader(self):\n",
    "        return DataLoader(self.val, batch_size=self.batch_size, num_workers=4)\n",
    "\n",
    "\n",
    "\n"
   ]
  },
  {
   "cell_type": "code",
   "execution_count": 234,
   "metadata": {},
   "outputs": [],
   "source": [
    "\n",
    "\n",
    "class SiameseModel(nn.Module):\n",
    "    def __init__(self,input_dim ) -> None:\n",
    "        super(SiameseModel,self).__init__()\n",
    "        self.input_dim = input_dim\n",
    "\n",
    "        self.featurizer = nn.Sequential(\n",
    "                nn.Conv1d(self.input_dim, 512, kernel_size=3, stride=1, padding=1),\n",
    "                nn.ReLU(),\n",
    "                nn.Conv1d(512, 256, kernel_size=3, stride=1, padding=1),\n",
    "                nn.ReLU(),\n",
    "                nn.Conv1d(256, 128, kernel_size=3, stride=1, padding=1),\n",
    "                nn.ReLU(),\n",
    "                nn.AdaptiveMaxPool1d(1) ,\n",
    "                nn.Flatten() \n",
    "\n",
    "            )\n",
    "        \n",
    "        # self.conv2d_block = nn.Sequential(\n",
    "        #     nn.Conv2d(1, 64, kernel_size=(3, 3), stride=1, padding=1), \n",
    "        #     nn.ReLU(),\n",
    "        #     nn.AdaptiveMaxPool2d(1),  # [batch_size, 64, 1, 1]\n",
    "        #     nn.Flatten(),\n",
    "        # )\n",
    "\n",
    "        self.scorecompute_block = nn.Sequential(\n",
    "            \n",
    "                nn.Linear(128,32),\n",
    "                nn.ReLU(),\n",
    "                nn.Linear(32,1),\n",
    "                nn.Sigmoid(),\n",
    "        )\n",
    "\n",
    "    \n",
    "    # def comb_vecs(self, vec1, vec2):\n",
    "\n",
    "    #     vec1, vec2 = torch.reshape(vec1,(1,128)),torch.reshape(vec2,(1,128))\n",
    "    #     combined = torch.cat((vec1, vec2), dim=0)\n",
    "\n",
    "    #     return torch.reshape(combined, (1,1,256))\n",
    "\n",
    "\n",
    "    def forward(self,x1,x2):\n",
    "        feat_x1,feat_x2 = self.featurizer(x1), self.featurizer(x2)\n",
    "\n",
    "        # print(feat_x1)\n",
    "        # print(feat_x1.shape)\n",
    "\n",
    "        # combined_representation = self.comb_vecs(feat_x1,feat_x2)\n",
    "        # print(combined_representation.shape)\n",
    "\n",
    "        combined_representation =torch.reshape(feat_x1 - feat_x2,(1,128))\n",
    "\n",
    "        # conv_out = self.conv2d_block(combined_representation)\n",
    "        # print(conv_out)\n",
    "        \n",
    "        score = self.scorecompute_block(combined_representation)\n",
    "        print(score.shape)\n",
    "\n",
    "        return score\n",
    "\n",
    "\n",
    "\n"
   ]
  },
  {
   "cell_type": "code",
   "execution_count": 235,
   "metadata": {},
   "outputs": [],
   "source": [
    "\n",
    "test = torch.randn((100,1,1280))\n",
    "\n"
   ]
  },
  {
   "cell_type": "code",
   "execution_count": 254,
   "metadata": {},
   "outputs": [
    {
     "name": "stdout",
     "output_type": "stream",
     "text": [
      "torch.Size([1, 1])\n"
     ]
    }
   ],
   "source": [
    "model = SiameseModel(1)\n",
    "\n",
    "score = model(test[0],test[1])"
   ]
  },
  {
   "cell_type": "code",
   "execution_count": 265,
   "metadata": {},
   "outputs": [
    {
     "data": {
      "text/plain": [
       "array([[0.5289478]], dtype=float32)"
      ]
     },
     "execution_count": 265,
     "metadata": {},
     "output_type": "execute_result"
    }
   ],
   "source": [
    "score.detach().numpy()"
   ]
  },
  {
   "cell_type": "code",
   "execution_count": null,
   "metadata": {},
   "outputs": [],
   "source": []
  },
  {
   "cell_type": "code",
   "execution_count": null,
   "metadata": {},
   "outputs": [],
   "source": []
  }
 ],
 "metadata": {
  "kernelspec": {
   "display_name": "Python 3",
   "language": "python",
   "name": "python3"
  },
  "language_info": {
   "codemirror_mode": {
    "name": "ipython",
    "version": 3
   },
   "file_extension": ".py",
   "mimetype": "text/x-python",
   "name": "python",
   "nbconvert_exporter": "python",
   "pygments_lexer": "ipython3",
   "version": "3.12.4"
  }
 },
 "nbformat": 4,
 "nbformat_minor": 2
}
