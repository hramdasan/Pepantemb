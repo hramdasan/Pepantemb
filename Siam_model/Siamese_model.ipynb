{
 "cells": [
  {
   "cell_type": "code",
   "metadata": {
    "ExecuteTime": {
     "end_time": "2024-09-06T14:38:49.559386Z",
     "start_time": "2024-09-06T14:38:47.315074Z"
    }
   },
   "source": [
    "import torch \n",
    "import torch.nn as nn\n",
    "import pytorch_lightning as pl\n",
    "from torchsummary import summary\n",
    "from torch.utils.data import DataLoader, Dataset, random_split\n"
   ],
   "outputs": [],
   "execution_count": 1
  },
  {
   "cell_type": "code",
   "metadata": {
    "ExecuteTime": {
     "end_time": "2024-09-06T14:38:49.564469Z",
     "start_time": "2024-09-06T14:38:49.562379Z"
    }
   },
   "source": [
    "\n",
    "# Embedding vector --> From LLM Encoder & Graph encoder || MHC & peptide \n",
    "# Siam model ( MHC, Peptide)-> 1 if binds else 0 \n",
    "# input_dim = 1280"
   ],
   "outputs": [],
   "execution_count": 2
  },
  {
   "cell_type": "code",
   "metadata": {
    "ExecuteTime": {
     "end_time": "2024-09-06T14:38:49.603585Z",
     "start_time": "2024-09-06T14:38:49.601474Z"
    }
   },
   "source": "\n",
   "outputs": [],
   "execution_count": 2
  },
  {
   "cell_type": "code",
   "metadata": {
    "ExecuteTime": {
     "end_time": "2024-09-06T14:38:49.622477Z",
     "start_time": "2024-09-06T14:38:49.619040Z"
    }
   },
   "source": [
    "class EmbeddingDataset(Dataset):\n",
    "    \n",
    "    def __init__(self, hla_embedding, peptide_embedding) -> None:\n",
    "        super(EmbeddingDataset).__init__()\n",
    "\n",
    "        self.hla_embedding = hla_embedding\n",
    "        self.peptide_embedding = peptide_embedding\n",
    "\n",
    "    def __len__(self):\n",
    "        assert len(self.hla_embedding) == len(self.peptide_embedding)\n",
    "        return len(self.hla_embedding)\n",
    "    \n",
    "    def __getitem__(self, idx):        \n",
    "        return self.hla_embedding[idx], self.peptide_embedding[idx]\n",
    "\n",
    "\n",
    "\n",
    "class EmbeddingDataModule(pl.LightningDataModule):\n",
    "\n",
    "    def __init__(self, hla, peptide ,batch_size):\n",
    "        super(EmbeddingDataModule).__init__()\n",
    "        self.hla = hla     \n",
    "        self.peptide = peptide \n",
    "        self.batch_size = batch_size\n",
    "\n",
    "\n",
    "    def setup(self, stage=None):\n",
    "        full_dataset = EmbeddingDataset(self.hla,self.peptide)\n",
    "        # datasplit = random_split(full_dataset, [int(len(full_dataset) * 0.8), len(full_dataset) - int(len(full_dataset) * 0.8)])\n",
    "        # self.train_ids,self.val_ids = datasplit[0].dataset.identifiers,datasplit[1].dataset.identifiers\n",
    "        self.train, self.val = random_split(full_dataset, [int(len(full_dataset) * 0.8), len(full_dataset) - int(len(full_dataset) * 0.8)])\n",
    "        # self.train, self.val = datasplit[0].dataset.data,datasplit[1].dataset.data\n",
    "\n",
    "    def train_dataloader(self):\n",
    "        return DataLoader(self.train, batch_size=self.batch_size, num_workers=4)\n",
    "\n",
    "    def val_dataloader(self):\n",
    "        return DataLoader(self.val, batch_size=self.batch_size, num_workers=4)\n",
    "\n",
    "\n",
    "\n"
   ],
   "outputs": [],
   "execution_count": 3
  },
  {
   "cell_type": "code",
   "metadata": {
    "ExecuteTime": {
     "end_time": "2024-09-06T14:38:49.629768Z",
     "start_time": "2024-09-06T14:38:49.625509Z"
    }
   },
   "source": [
    "\n",
    "\n",
    "def contrastive_loss(vec1, vec2, score_assoc):\n",
    "\n",
    "    margin = 1.5\n",
    "    euclidean_distance  = (vec1 - vec2).pow(2).sum(1).sqrt()\n",
    "\n",
    "    return 1/2*( score_assoc * euclidean_distance.pow(2) + (1-score_assoc)*max(0,margin-euclidean_distance)**2 )\n",
    "\n",
    "\n",
    "class SiameseModel(nn.Module):\n",
    "    def __init__(self,input_dim ) -> None:\n",
    "        super(SiameseModel,self).__init__()\n",
    "        self.input_dim = input_dim\n",
    "\n",
    "        self.featurizer = nn.Sequential(\n",
    "                nn.Conv1d(self.input_dim, 512, kernel_size=3, stride=1, padding=1),\n",
    "                nn.ReLU(),\n",
    "                nn.Conv1d(512, 256, kernel_size=3, stride=1, padding=1),\n",
    "                nn.ReLU(),\n",
    "                nn.Conv1d(256, 128, kernel_size=3, stride=1, padding=1),\n",
    "                nn.ReLU(),\n",
    "                nn.AdaptiveMaxPool1d(1) ,\n",
    "                nn.Flatten() \n",
    "\n",
    "            )\n",
    "        \n",
    "        self.conv2d_block = nn.Sequential(\n",
    "            nn.Conv2d(1, 64, kernel_size=(3, 3), stride=1, padding=1), \n",
    "            nn.ReLU(),\n",
    "            nn.AdaptiveMaxPool2d(1),  # [batch_size, 64, 1, 1]\n",
    "            nn.Flatten(),\n",
    "        )\n",
    "\n",
    "        self.scorecompute_block = nn.Sequential(\n",
    "            \n",
    "                nn.Linear(128,32),\n",
    "                nn.ReLU(),\n",
    "                nn.Linear(32,1),\n",
    "                nn.Sigmoid(),\n",
    "        )\n",
    "\n",
    "    \n",
    "    # def comb_vecs(self, vec1, vec2):\n",
    "\n",
    "    #     vec1, vec2 = torch.reshape(vec1,(1,128)),torch.reshape(vec2,(1,128))\n",
    "    #     combined = torch.cat((vec1, vec2), dim=0)\n",
    "\n",
    "    #     return torch.reshape(combined, (1,1,256))\n",
    "\n",
    "    def forward(self,x1,x2):\n",
    "        feat_x1,feat_x2 = self.featurizer(x1), self.featurizer(x2)\n",
    "\n",
    "        print(feat_x1)\n",
    "        print(feat_x2)\n",
    "        print(feat_x1.shape)\n",
    "        print(feat_x2.shape)\n",
    "\n",
    "        # combined_representation = self.comb_vecs(feat_x1,feat_x2)\n",
    "        # print(combined_representation.shape)\n",
    "\n",
    "        combined_representation =torch.reshape(feat_x1 - feat_x2,(1,128))\n",
    "\n",
    "        # conv_out = self.conv2d_block(combined_representation)\n",
    "        # print(conv_out)\n",
    "        \n",
    "        score = self.scorecompute_block(combined_representation)\n",
    "        print(score.shape)\n",
    "\n",
    "        return score\n",
    "\n",
    "\n",
    "\n",
    "    def training_step(self,batch,):\n",
    "        mha, peptide, association = batch \n",
    "\n",
    "        predicted_association  = self.forward(mha,peptide)\n",
    "\n",
    "        train_loss = contrastive_loss(mha,peptide,association)\n",
    "        return train_loss\n",
    "        \n",
    "\n",
    "\n",
    "\n",
    "\n",
    "\n",
    "\n"
   ],
   "outputs": [],
   "execution_count": 4
  },
  {
   "cell_type": "code",
   "metadata": {
    "ExecuteTime": {
     "end_time": "2024-09-06T14:38:49.635164Z",
     "start_time": "2024-09-06T14:38:49.632362Z"
    }
   },
   "source": [
    "\n",
    "test = torch.randn((100,1,1280))\n",
    "\n"
   ],
   "outputs": [],
   "execution_count": 5
  },
  {
   "cell_type": "code",
   "metadata": {
    "ExecuteTime": {
     "end_time": "2024-09-06T14:38:49.671407Z",
     "start_time": "2024-09-06T14:38:49.642280Z"
    }
   },
   "source": [
    "model = SiameseModel(1)\n",
    "\n",
    "score = model(test[0],test[1])"
   ],
   "outputs": [
    {
     "name": "stdout",
     "output_type": "stream",
     "text": [
      "tensor([[0.3327],\n",
      "        [0.2204],\n",
      "        [0.2611],\n",
      "        [0.1550],\n",
      "        [0.1666],\n",
      "        [0.2379],\n",
      "        [0.2070],\n",
      "        [0.0826],\n",
      "        [0.2781],\n",
      "        [0.3370],\n",
      "        [0.0769],\n",
      "        [0.2095],\n",
      "        [0.2235],\n",
      "        [0.3379],\n",
      "        [0.2914],\n",
      "        [0.3359],\n",
      "        [0.1132],\n",
      "        [0.4395],\n",
      "        [0.1183],\n",
      "        [0.3960],\n",
      "        [0.4694],\n",
      "        [0.1434],\n",
      "        [0.0789],\n",
      "        [0.1746],\n",
      "        [0.4421],\n",
      "        [0.4930],\n",
      "        [0.3121],\n",
      "        [0.2238],\n",
      "        [0.4491],\n",
      "        [0.2017],\n",
      "        [0.1347],\n",
      "        [0.1856],\n",
      "        [0.3160],\n",
      "        [0.1928],\n",
      "        [0.2157],\n",
      "        [0.1965],\n",
      "        [0.2368],\n",
      "        [0.1044],\n",
      "        [0.2375],\n",
      "        [0.2485],\n",
      "        [0.2615],\n",
      "        [0.1593],\n",
      "        [0.1363],\n",
      "        [0.4353],\n",
      "        [0.1925],\n",
      "        [0.1758],\n",
      "        [0.1042],\n",
      "        [0.2023],\n",
      "        [0.3383],\n",
      "        [0.1548],\n",
      "        [0.0883],\n",
      "        [0.2208],\n",
      "        [0.1793],\n",
      "        [0.5429],\n",
      "        [0.2748],\n",
      "        [0.3442],\n",
      "        [0.2268],\n",
      "        [0.3814],\n",
      "        [0.3142],\n",
      "        [0.2065],\n",
      "        [0.1524],\n",
      "        [0.1477],\n",
      "        [0.2819],\n",
      "        [0.5073],\n",
      "        [0.0706],\n",
      "        [0.0343],\n",
      "        [0.1214],\n",
      "        [0.0705],\n",
      "        [0.1586],\n",
      "        [0.4430],\n",
      "        [0.4569],\n",
      "        [0.3747],\n",
      "        [0.1734],\n",
      "        [0.4488],\n",
      "        [0.1335],\n",
      "        [0.1609],\n",
      "        [0.1709],\n",
      "        [0.3363],\n",
      "        [0.1650],\n",
      "        [0.1401],\n",
      "        [0.3780],\n",
      "        [0.2773],\n",
      "        [0.1706],\n",
      "        [0.0118],\n",
      "        [0.3683],\n",
      "        [0.1223],\n",
      "        [0.2582],\n",
      "        [0.2660],\n",
      "        [0.3067],\n",
      "        [0.1606],\n",
      "        [0.1658],\n",
      "        [0.0098],\n",
      "        [0.2264],\n",
      "        [0.2709],\n",
      "        [0.1891],\n",
      "        [0.2600],\n",
      "        [0.1923],\n",
      "        [0.2121],\n",
      "        [0.2618],\n",
      "        [0.0561],\n",
      "        [0.1386],\n",
      "        [0.2865],\n",
      "        [0.1854],\n",
      "        [0.1110],\n",
      "        [0.3515],\n",
      "        [0.1469],\n",
      "        [0.1667],\n",
      "        [0.0651],\n",
      "        [0.4136],\n",
      "        [0.2395],\n",
      "        [0.2791],\n",
      "        [0.2088],\n",
      "        [0.2774],\n",
      "        [0.0727],\n",
      "        [0.3852],\n",
      "        [0.0774],\n",
      "        [0.1373],\n",
      "        [0.1563],\n",
      "        [0.2986],\n",
      "        [0.1244],\n",
      "        [0.3832],\n",
      "        [0.2414],\n",
      "        [0.2908],\n",
      "        [0.1679],\n",
      "        [0.1897],\n",
      "        [0.2849],\n",
      "        [0.4540],\n",
      "        [0.1571]], grad_fn=<SqueezeBackward1>)\n",
      "tensor([[0.3082],\n",
      "        [0.1768],\n",
      "        [0.2440],\n",
      "        [0.1450],\n",
      "        [0.1396],\n",
      "        [0.2772],\n",
      "        [0.1928],\n",
      "        [0.0849],\n",
      "        [0.2569],\n",
      "        [0.2782],\n",
      "        [0.0813],\n",
      "        [0.2446],\n",
      "        [0.1964],\n",
      "        [0.3590],\n",
      "        [0.2605],\n",
      "        [0.3443],\n",
      "        [0.1254],\n",
      "        [0.3577],\n",
      "        [0.1257],\n",
      "        [0.3872],\n",
      "        [0.3940],\n",
      "        [0.1195],\n",
      "        [0.0639],\n",
      "        [0.1715],\n",
      "        [0.4079],\n",
      "        [0.4405],\n",
      "        [0.3149],\n",
      "        [0.1777],\n",
      "        [0.4840],\n",
      "        [0.2201],\n",
      "        [0.1392],\n",
      "        [0.2252],\n",
      "        [0.2667],\n",
      "        [0.1625],\n",
      "        [0.2044],\n",
      "        [0.1835],\n",
      "        [0.1986],\n",
      "        [0.1005],\n",
      "        [0.2505],\n",
      "        [0.2368],\n",
      "        [0.2438],\n",
      "        [0.1601],\n",
      "        [0.1379],\n",
      "        [0.3700],\n",
      "        [0.1942],\n",
      "        [0.1830],\n",
      "        [0.0976],\n",
      "        [0.1447],\n",
      "        [0.3348],\n",
      "        [0.1426],\n",
      "        [0.0902],\n",
      "        [0.2041],\n",
      "        [0.1295],\n",
      "        [0.4744],\n",
      "        [0.2471],\n",
      "        [0.2951],\n",
      "        [0.2148],\n",
      "        [0.3365],\n",
      "        [0.2984],\n",
      "        [0.1943],\n",
      "        [0.1185],\n",
      "        [0.1606],\n",
      "        [0.2769],\n",
      "        [0.4178],\n",
      "        [0.0771],\n",
      "        [0.0434],\n",
      "        [0.1585],\n",
      "        [0.0507],\n",
      "        [0.1514],\n",
      "        [0.3644],\n",
      "        [0.4369],\n",
      "        [0.3661],\n",
      "        [0.1286],\n",
      "        [0.4040],\n",
      "        [0.1338],\n",
      "        [0.1720],\n",
      "        [0.1631],\n",
      "        [0.3622],\n",
      "        [0.1478],\n",
      "        [0.1077],\n",
      "        [0.3017],\n",
      "        [0.2614],\n",
      "        [0.1950],\n",
      "        [0.0000],\n",
      "        [0.2905],\n",
      "        [0.1305],\n",
      "        [0.2468],\n",
      "        [0.2710],\n",
      "        [0.2774],\n",
      "        [0.1291],\n",
      "        [0.1231],\n",
      "        [0.0036],\n",
      "        [0.1994],\n",
      "        [0.3474],\n",
      "        [0.1387],\n",
      "        [0.2526],\n",
      "        [0.1990],\n",
      "        [0.1946],\n",
      "        [0.2410],\n",
      "        [0.0481],\n",
      "        [0.1126],\n",
      "        [0.2632],\n",
      "        [0.2215],\n",
      "        [0.1006],\n",
      "        [0.3666],\n",
      "        [0.1573],\n",
      "        [0.1106],\n",
      "        [0.0659],\n",
      "        [0.4090],\n",
      "        [0.1725],\n",
      "        [0.2952],\n",
      "        [0.1805],\n",
      "        [0.2156],\n",
      "        [0.0349],\n",
      "        [0.3629],\n",
      "        [0.0793],\n",
      "        [0.1264],\n",
      "        [0.1444],\n",
      "        [0.2829],\n",
      "        [0.1310],\n",
      "        [0.3150],\n",
      "        [0.2287],\n",
      "        [0.2765],\n",
      "        [0.1415],\n",
      "        [0.1341],\n",
      "        [0.2338],\n",
      "        [0.3578],\n",
      "        [0.1911]], grad_fn=<SqueezeBackward1>)\n",
      "torch.Size([128, 1])\n",
      "torch.Size([128, 1])\n",
      "torch.Size([1, 1])\n"
     ]
    }
   ],
   "execution_count": 6
  },
  {
   "cell_type": "code",
   "metadata": {
    "ExecuteTime": {
     "end_time": "2024-09-06T14:38:49.800523Z",
     "start_time": "2024-09-06T14:38:49.796132Z"
    }
   },
   "source": [
    "score.detach().numpy()\n",
    "\n"
   ],
   "outputs": [
    {
     "data": {
      "text/plain": [
       "array([[0.53125024]], dtype=float32)"
      ]
     },
     "execution_count": 7,
     "metadata": {},
     "output_type": "execute_result"
    }
   ],
   "execution_count": 7
  },
  {
   "cell_type": "code",
   "metadata": {
    "ExecuteTime": {
     "end_time": "2024-09-06T14:38:50.006772Z",
     "start_time": "2024-09-06T14:38:50.003339Z"
    }
   },
   "source": [
    "test[0]"
   ],
   "outputs": [
    {
     "data": {
      "text/plain": [
       "tensor([[ 1.1858, -0.1531, -0.2003,  ...,  1.5323,  1.2208,  1.0693]])"
      ]
     },
     "execution_count": 8,
     "metadata": {},
     "output_type": "execute_result"
    }
   ],
   "execution_count": 8
  },
  {
   "cell_type": "code",
   "metadata": {
    "ExecuteTime": {
     "end_time": "2024-09-06T14:38:51.149929Z",
     "start_time": "2024-09-06T14:38:51.146640Z"
    }
   },
   "source": [
    "test[1]"
   ],
   "outputs": [
    {
     "data": {
      "text/plain": [
       "tensor([[ 1.5792,  0.4030,  1.6063,  ..., -1.4488,  0.7400,  1.1089]])"
      ]
     },
     "execution_count": 9,
     "metadata": {},
     "output_type": "execute_result"
    }
   ],
   "execution_count": 9
  },
  {
   "cell_type": "code",
   "metadata": {
    "ExecuteTime": {
     "end_time": "2024-09-06T14:38:51.762607Z",
     "start_time": "2024-09-06T14:38:51.758614Z"
    }
   },
   "source": [
    "(test[0] - test[1]).pow(2).sum(1).sqrt()"
   ],
   "outputs": [
    {
     "data": {
      "text/plain": [
       "tensor([50.5452])"
      ]
     },
     "execution_count": 10,
     "metadata": {},
     "output_type": "execute_result"
    }
   ],
   "execution_count": 10
  },
  {
   "cell_type": "code",
   "metadata": {
    "ExecuteTime": {
     "end_time": "2024-09-06T14:38:52.117222Z",
     "start_time": "2024-09-06T14:38:52.115668Z"
    }
   },
   "source": [],
   "outputs": [],
   "execution_count": null
  },
  {
   "cell_type": "code",
   "execution_count": null,
   "metadata": {},
   "outputs": [],
   "source": []
  },
  {
   "cell_type": "code",
   "execution_count": null,
   "metadata": {},
   "outputs": [],
   "source": []
  }
 ],
 "metadata": {
  "kernelspec": {
   "display_name": "Python 3",
   "language": "python",
   "name": "python3"
  },
  "language_info": {
   "codemirror_mode": {
    "name": "ipython",
    "version": 3
   },
   "file_extension": ".py",
   "mimetype": "text/x-python",
   "name": "python",
   "nbconvert_exporter": "python",
   "pygments_lexer": "ipython3",
   "version": "3.12.4"
  }
 },
 "nbformat": 4,
 "nbformat_minor": 2
}
